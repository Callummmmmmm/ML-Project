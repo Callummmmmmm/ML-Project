{
 "cells": [
  {
   "cell_type": "code",
   "execution_count": 45,
   "id": "559010f3",
   "metadata": {},
   "outputs": [],
   "source": [
    "# Importing essential libraries.\n",
    "from data_imports import *\n",
    "from data_clean import data"
   ]
  },
  {
   "cell_type": "code",
   "execution_count": 46,
   "id": "2705fbe2",
   "metadata": {},
   "outputs": [],
   "source": [
    "# Importing machine-learning libraries.\n",
    "from sklearn.ensemble import HistGradientBoostingRegressor\n",
    "from sklearn.model_selection import train_test_split\n",
    "from sklearn.metrics import mean_squared_error, mean_absolute_error, r2_score"
   ]
  },
  {
   "cell_type": "code",
   "execution_count": 81,
   "id": "83e16fc1",
   "metadata": {},
   "outputs": [],
   "source": [
    "clean_df = data()\n",
    "df = data()"
   ]
  },
  {
   "cell_type": "code",
   "execution_count": 82,
   "id": "246ea0fb",
   "metadata": {},
   "outputs": [],
   "source": [
    "df.index = pd.to_datetime(df.index)\n",
    "df['hour'] = df.index.hour\n",
    "df['day_of_week'] = df.index.dayofweek\n",
    "df['month'] = df.index.month"
   ]
  },
  {
   "cell_type": "code",
   "execution_count": 65,
   "id": "d14e1e7f",
   "metadata": {},
   "outputs": [],
   "source": [
    "def HGBR(input_data, var):\n",
    "    # Seperating the dataframes based on missing O3 values and assinging to variables.\n",
    "    df_missing = input_data[input_data[var].isnull()]\n",
    "    df_not_missing = input_data.dropna(subset = [var])\n",
    "    \n",
    "    # Seperating features and target variable.\n",
    "    X = df_not_missing.drop(columns = [var])\n",
    "    y = df_not_missing[var]\n",
    "    \n",
    "    # Splitting the data into train and testing subsets.\n",
    "    X_train, X_test, y_train, y_test = train_test_split(X, y, test_size = 0.2, random_state = 1)\n",
    "    \n",
    "    # Training the model.\n",
    "    clf = HistGradientBoostingRegressor(random_state = 1)\n",
    "    clf.fit(X_train, y_train)\n",
    "    \n",
    "    # Making predicts on the test set.\n",
    "    y_pred = clf.predict(X_test)\n",
    "    \n",
    "    # Calculating regression metrics and assigning to a variable.\n",
    "    mse = mean_squared_error(y_test, y_pred)\n",
    "    rmse = mse ** 0.5\n",
    "    mae = mean_absolute_error(y_test, y_pred)\n",
    "    r2 = r2_score(y_test, y_pred)\n",
    "    \n",
    "    # Print regression metrics.\n",
    "    print(f'MSE: {mse}')\n",
    "    print(f'RMSE: {rmse}')\n",
    "    print(f'MAE: {mae}')\n",
    "    print(f'R2: {r2}')"
   ]
  },
  {
   "cell_type": "code",
   "execution_count": 85,
   "id": "344bfdba",
   "metadata": {},
   "outputs": [
    {
     "name": "stdout",
     "output_type": "stream",
     "text": [
      "MSE: 12.02466727469259\n",
      "RMSE: 3.46766020173439\n",
      "MAE: 2.6549757855609784\n",
      "R2: 0.7795779725585423\n"
     ]
    }
   ],
   "source": [
    "HGBR(clean_df, 'O3_ppbV')"
   ]
  },
  {
   "cell_type": "code",
   "execution_count": 84,
   "id": "e263c377",
   "metadata": {},
   "outputs": [
    {
     "name": "stdout",
     "output_type": "stream",
     "text": [
      "MSE: 11.105216640657382\n",
      "RMSE: 3.3324490454705202\n",
      "MAE: 2.5536659919352145\n",
      "R2: 0.7964322578586365\n"
     ]
    }
   ],
   "source": [
    "HGBR(df, 'O3_ppbV')"
   ]
  },
  {
   "cell_type": "code",
   "execution_count": null,
   "id": "99b9f2dc",
   "metadata": {},
   "outputs": [],
   "source": []
  }
 ],
 "metadata": {
  "kernelspec": {
   "display_name": "Python 3 (ipykernel)",
   "language": "python",
   "name": "python3"
  },
  "language_info": {
   "codemirror_mode": {
    "name": "ipython",
    "version": 3
   },
   "file_extension": ".py",
   "mimetype": "text/x-python",
   "name": "python",
   "nbconvert_exporter": "python",
   "pygments_lexer": "ipython3",
   "version": "3.10.9"
  }
 },
 "nbformat": 4,
 "nbformat_minor": 5
}
