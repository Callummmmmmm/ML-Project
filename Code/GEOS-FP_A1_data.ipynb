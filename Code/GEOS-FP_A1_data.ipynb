{
 "cells": [
  {
   "cell_type": "code",
   "execution_count": null,
   "id": "12e1569d",
   "metadata": {},
   "outputs": [],
   "source": [
    "import numpy as np\n",
    "import xarray as xr\n",
    "import glob\n",
    "import pandas as pd\n",
    "\n",
    "files = glob.glob(\"/mnt/scratch/projects/chem-acm-2018/ExtData/GEOS_0.5x0.625/MERRA2/*/*/*.A1.*\")\n",
    "files.sort()\n",
    "\n",
    "df = pd.DataFrame()\n",
    "\n",
    "for file in files:\n",
    "    print(file)\n",
    "    ds = xr.open_dataset(file)\n",
    "    \n",
    "    data = {'time': ds['time'].values}\n",
    "    \n",
    "    for variable in ds.data_vars:\n",
    "        try:\n",
    "            data[variable] = ds[variable].sel(lat=16.53, lon=-23.0, method='nearest').values\n",
    "        except Exception as e:\n",
    "            print(f\"Could not retrieve data for variable {variable}: {e}\")\n",
    "    \n",
    "    temp_df = pd.DataFrame(data)\n",
    "    df = pd.concat([df, temp_df], ignore_index=True)\n",
    "\n",
    "df.to_csv(f'/users/dhd512/ML-Project/Input/all_variables.csv')"
   ]
  }
 ],
 "metadata": {
  "kernelspec": {
   "display_name": "Python 3 (ipykernel)",
   "language": "python",
   "name": "python3"
  },
  "language_info": {
   "codemirror_mode": {
    "name": "ipython",
    "version": 3
   },
   "file_extension": ".py",
   "mimetype": "text/x-python",
   "name": "python",
   "nbconvert_exporter": "python",
   "pygments_lexer": "ipython3",
   "version": "3.10.9"
  }
 },
 "nbformat": 4,
 "nbformat_minor": 5
}
