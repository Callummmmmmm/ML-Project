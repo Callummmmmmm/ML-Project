{
 "cells": [
  {
   "cell_type": "code",
   "execution_count": 1,
   "id": "8166fcde",
   "metadata": {},
   "outputs": [],
   "source": [
    "from data_imports import pd"
   ]
  },
  {
   "cell_type": "code",
   "execution_count": 2,
   "id": "b2e68e7e",
   "metadata": {
    "scrolled": false
   },
   "outputs": [],
   "source": [
    "def data():\n",
    "    filepath = '/Users/callumwilson/Documents/GitHub/ML-Project/Input/20240423_CV_merge.csv'\n",
    "\n",
    "    # Reading csv and assigning to a variable.\n",
    "    # Skipping first 8 rows\n",
    "    df_clean = pd.read_csv(filepath, skiprows = 8, index_col = 0)\n",
    "    \n",
    "    # Setting index to date-time format.\n",
    "    df_clean.index = pd.to_datetime(df_clean.index)\n",
    "\n",
    "    return df_clean\n",
    "\n",
    "def time_based(input_data):\n",
    "    df = input_data\n",
    "    \n",
    "    # Creating new variables based on date time.\n",
    "    df['hour'] = df.index.hour\n",
    "    df['day_of_week'] = df.index.dayofweek\n",
    "    df['month'] = df.index.month\n",
    "    df['time_since_start'] = (df.index - df.index.min()).days\n",
    "    \n",
    "    return df\n",
    "\n",
    "def GEOS_FP_A1_data():\n",
    "    filepath = '/Users/callumwilson/Documents/GitHub/ML-Project/Input/all_variables.csv'\n",
    "    \n",
    "    df_clean = pd.read_csv(filepath)\n",
    "    \n",
    "    df_clean.drop(columns='Unnamed: 0', inplace=True)\n",
    "    df_clean.rename(columns={'time': 'Date and Time (UTC)'}, inplace=True)\n",
    "    df_clean.set_index('Date and Time (UTC)', inplace=True)\n",
    "    df_clean.index = pd.to_datetime(df_clean.index)\n",
    "    df_clean.index = df_clean.index + pd.Timedelta(minutes=30)\n",
    "\n",
    "    return df_clean"
   ]
  }
 ],
 "metadata": {
  "kernelspec": {
   "display_name": "Python 3 (ipykernel)",
   "language": "python",
   "name": "python3"
  },
  "language_info": {
   "codemirror_mode": {
    "name": "ipython",
    "version": 3
   },
   "file_extension": ".py",
   "mimetype": "text/x-python",
   "name": "python",
   "nbconvert_exporter": "python",
   "pygments_lexer": "ipython3",
   "version": "3.10.9"
  }
 },
 "nbformat": 4,
 "nbformat_minor": 5
}
