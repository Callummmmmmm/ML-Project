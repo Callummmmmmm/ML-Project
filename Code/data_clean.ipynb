{
 "cells": [
  {
   "cell_type": "code",
   "execution_count": 1,
   "id": "89b55c8b",
   "metadata": {},
   "outputs": [],
   "source": [
    "from data_imports import pd"
   ]
  },
  {
   "cell_type": "code",
   "execution_count": 6,
   "id": "299b5f73",
   "metadata": {
    "scrolled": false
   },
   "outputs": [],
   "source": [
    "def data():\n",
    "    filepath = '/Users/callumwilson/Documents/GitHub/ML-Project/Input/20240423_CV_merge.csv'\n",
    "\n",
    "    # Reading csv and assigning to a variable.\n",
    "    # Skipping first 8 rows\n",
    "    df_clean = pd.read_csv(filepath, skiprows = 8, index_col = 0)\n",
    "\n",
    "    return df_clean"
   ]
  }
 ],
 "metadata": {
  "kernelspec": {
   "display_name": "Python 3 (ipykernel)",
   "language": "python",
   "name": "python3"
  },
  "language_info": {
   "codemirror_mode": {
    "name": "ipython",
    "version": 3
   },
   "file_extension": ".py",
   "mimetype": "text/x-python",
   "name": "python",
   "nbconvert_exporter": "python",
   "pygments_lexer": "ipython3",
   "version": "3.10.9"
  }
 },
 "nbformat": 4,
 "nbformat_minor": 5
}
