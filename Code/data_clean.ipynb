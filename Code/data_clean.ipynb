{
 "cells": [
  {
   "cell_type": "code",
   "execution_count": 1,
   "id": "f44e4b80",
   "metadata": {},
   "outputs": [],
   "source": [
    "from data_imports import pd"
   ]
  },
  {
   "cell_type": "code",
   "execution_count": 12,
   "id": "0039b2aa",
   "metadata": {
    "scrolled": false
   },
   "outputs": [],
   "source": [
    "def data():\n",
    "    filepath = '/Users/callumwilson/Documents/GitHub/ML-Project/Input/20240423_CV_merge.csv'\n",
    "\n",
    "    # Reading csv and assigning to a variable.\n",
    "    # Skipping first 8 rows\n",
    "    df_clean = pd.read_csv(filepath, skiprows = 8, index_col = 0)\n",
    "\n",
    "    return df_clean\n",
    "\n",
    "def time_based(input_data):\n",
    "    df = input_data\n",
    "    \n",
    "    # Setting index to date-time format.\n",
    "    df.index = pd.to_datetime(df.index)\n",
    "    \n",
    "    # Creating new variables based on date time.\n",
    "    df['hour'] = df.index.hour\n",
    "    df['day_of_week'] = df.index.dayofweek\n",
    "    df['month'] = df.index.month\n",
    "    df['time_since_start'] = (df.index - df.index.min()).days\n",
    "    \n",
    "    return df"
   ]
  }
 ],
 "metadata": {
  "kernelspec": {
   "display_name": "Python 3 (ipykernel)",
   "language": "python",
   "name": "python3"
  },
  "language_info": {
   "codemirror_mode": {
    "name": "ipython",
    "version": 3
   },
   "file_extension": ".py",
   "mimetype": "text/x-python",
   "name": "python",
   "nbconvert_exporter": "python",
   "pygments_lexer": "ipython3",
   "version": "3.10.9"
  }
 },
 "nbformat": 4,
 "nbformat_minor": 5
}
