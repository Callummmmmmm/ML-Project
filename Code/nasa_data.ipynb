{
 "cells": [
  {
   "cell_type": "code",
   "execution_count": null,
   "id": "12e1569d",
   "metadata": {},
   "outputs": [],
   "source": [
    "import numpy as np\n",
    "import xarray as xr\n",
    "import glob\n",
    "import pandas as pd\n",
    "\n",
    "files=glob.glob(\"/mnt/scratch/projects/chem-acm-2018/ExtData/GEOS_0.5x0.625/MERRA2/*/*/*.A1.*\")\n",
    "\n",
    "first=True\n",
    "files.sort()\n",
    "\n",
    "variable='TS'\n",
    "for file in files:\n",
    "        print(file)\n",
    "        ds=xr.open_dataset(file)\n",
    "        if(first):\n",
    "                first=False\n",
    "                df=pd.DataFrame({'time':ds['time'].values,                                                 'TS':ds[variable].sel(lat=16.53, lon=-23.0, method='nearest').values})\n",
    "        else:\n",
    "                df=pd.concat([df, pd.DataFrame({'time':ds['time'].values,\n",
    "                                                 'TS':ds[variable].sel(lat=16.53, lon=-23.0, method='nearest').values})],\n",
    "                                                 ignore_index=True)\n",
    "df.to_csv(f'/Users/callumwilson/Documents/GitHub/ML-Project/Input/{variable}.csv')\n",
    "\n"
   ]
  }
 ],
 "metadata": {
  "kernelspec": {
   "display_name": "Python 3 (ipykernel)",
   "language": "python",
   "name": "python3"
  },
  "language_info": {
   "codemirror_mode": {
    "name": "ipython",
    "version": 3
   },
   "file_extension": ".py",
   "mimetype": "text/x-python",
   "name": "python",
   "nbconvert_exporter": "python",
   "pygments_lexer": "ipython3",
   "version": "3.10.9"
  }
 },
 "nbformat": 4,
 "nbformat_minor": 5
}
